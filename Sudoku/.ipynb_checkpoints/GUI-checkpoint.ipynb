{
 "cells": [
  {
   "cell_type": "code",
   "execution_count": 12,
   "metadata": {},
   "outputs": [
    {
     "ename": "ModuleNotFoundError",
     "evalue": "No module named 'pygame'",
     "output_type": "error",
     "traceback": [
      "\u001b[0;31m---------------------------------------------------------------------------\u001b[0m",
      "\u001b[0;31mModuleNotFoundError\u001b[0m                       Traceback (most recent call last)",
      "\u001b[0;32m<ipython-input-12-c0107c8d0f34>\u001b[0m in \u001b[0;36m<module>\u001b[0;34m\u001b[0m\n\u001b[0;32m----> 1\u001b[0;31m \u001b[0;32mimport\u001b[0m \u001b[0mpygame\u001b[0m\u001b[0;34m\u001b[0m\u001b[0;34m\u001b[0m\u001b[0m\n\u001b[0m\u001b[1;32m      2\u001b[0m \u001b[0;32mimport\u001b[0m \u001b[0mtime\u001b[0m\u001b[0;34m\u001b[0m\u001b[0;34m\u001b[0m\u001b[0m\n\u001b[1;32m      3\u001b[0m \u001b[0;32mfrom\u001b[0m \u001b[0msudoku_solver\u001b[0m \u001b[0;32mimport\u001b[0m \u001b[0msolve_sudoku\u001b[0m\u001b[0;34m,\u001b[0m \u001b[0mcheck_valid\u001b[0m\u001b[0;34m\u001b[0m\u001b[0;34m\u001b[0m\u001b[0m\n\u001b[1;32m      4\u001b[0m \u001b[0mpygame\u001b[0m\u001b[0;34m.\u001b[0m\u001b[0mfont\u001b[0m\u001b[0;34m.\u001b[0m\u001b[0minit\u001b[0m\u001b[0;34m(\u001b[0m\u001b[0;34m)\u001b[0m\u001b[0;34m\u001b[0m\u001b[0;34m\u001b[0m\u001b[0m\n",
      "\u001b[0;31mModuleNotFoundError\u001b[0m: No module named 'pygame'"
     ]
    }
   ],
   "source": [
    "import pygame\n",
    "import time\n",
    "from sudoku_solver import solve_sudoku, check_valid\n",
    "pygame.font.init()"
   ]
  },
  {
   "cell_type": "code",
   "execution_count": null,
   "metadata": {},
   "outputs": [],
   "source": [
    "class Grid:\n",
    "    board = [\n",
    "        [7,8,0,4,0,0,1,2,0],\n",
    "        [6,0,0,0,7,5,0,0,9],\n",
    "        [0,0,0,6,0,1,0,7,8],\n",
    "        [0,0,7,0,4,0,2,6,0],\n",
    "        [0,0,1,0,5,0,9,3,0],\n",
    "        [9,0,4,0,6,0,0,0,5],\n",
    "        [0,7,0,3,0,0,0,1,2],\n",
    "        [1,2,0,0,0,7,4,0,0],\n",
    "        [0,4,9,2,0,6,0,0,7]\n",
    "    ]\n",
    "\n",
    "    def __init__(self, rows, cols, width, height):\n",
    "        self.rows = rows\n",
    "        self.cols = cols\n",
    "        self.cubes = \n",
    "        self.width = width\n",
    "        self.height = height"
   ]
  }
 ],
 "metadata": {
  "kernelspec": {
   "display_name": "Python 3",
   "language": "python",
   "name": "python3"
  },
  "language_info": {
   "codemirror_mode": {
    "name": "ipython",
    "version": 3
   },
   "file_extension": ".py",
   "mimetype": "text/x-python",
   "name": "python",
   "nbconvert_exporter": "python",
   "pygments_lexer": "ipython3",
   "version": "3.7.7"
  }
 },
 "nbformat": 4,
 "nbformat_minor": 4
}
