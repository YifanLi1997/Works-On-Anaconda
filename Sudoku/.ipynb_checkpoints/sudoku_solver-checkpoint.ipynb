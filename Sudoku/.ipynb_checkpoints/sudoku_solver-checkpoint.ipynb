{
 "cells": [
  {
   "cell_type": "code",
   "execution_count": 4,
   "metadata": {},
   "outputs": [],
   "source": [
    "board = [\n",
    "    [7,8,0,4,0,0,1,2,0],\n",
    "    [6,0,0,0,7,5,0,0,9],\n",
    "    [0,0,0,6,0,1,0,7,8],\n",
    "    [0,0,7,0,4,0,2,6,0],\n",
    "    [0,0,1,0,5,0,9,3,0],\n",
    "    [9,0,4,0,6,0,0,0,5],\n",
    "    [0,7,0,3,0,0,0,1,2],\n",
    "    [1,2,0,0,0,7,4,0,0],\n",
    "    [0,4,9,2,0,6,0,0,7]\n",
    "]\n",
    "\n",
    "boardRows = len(board)\n",
    "boardCols = len(board[0])"
   ]
  },
  {
   "cell_type": "code",
   "execution_count": 5,
   "metadata": {},
   "outputs": [],
   "source": [
    "def solve_sudoku(board):\n",
    "    \n",
    "    find = find_empty(board)\n",
    "    if not find:\n",
    "        return True\n",
    "    else:\n",
    "        row, col = find\n",
    "        \n",
    "    for i in range(1,10):\n",
    "        if check_valid(board, i, (row, col)):\n",
    "            board[row][col] = i\n",
    "            \n",
    "            if solve_sudoku(board):\n",
    "                return True\n",
    "            \n",
    "            board[row][col] = 0\n",
    "            \n",
    "    return False"
   ]
  },
  {
   "cell_type": "code",
   "execution_count": 6,
   "metadata": {},
   "outputs": [],
   "source": [
    "# check whether 'num' fits the 'pos' of 'board'\n",
    "# 'pos' is in the form of (row, col)\n",
    "def check_valid(board, num, pos):\n",
    "    \n",
    "    # check row\n",
    "    for i in range(boardCols):\n",
    "        if board[pos[0]][i] == num and i != pos[1]:\n",
    "            return False\n",
    "        \n",
    "    # check col\n",
    "    for i in range(boardRows):\n",
    "        if board[i][pos[1]] == num and i != pos[0]:\n",
    "            return False\n",
    "    \n",
    "    # check box\n",
    "    box_x = pos[1] // 3 # col\n",
    "    box_y = pos[0] // 3 # row\n",
    "    for i in range(box_y * 3, box_y * 3 + 3):\n",
    "        for j in range(box_x * 3, box_x * 3 + 3):\n",
    "            if board[i][j] == num and (i, j) != pos:\n",
    "                return False\n",
    "    \n",
    "    return True"
   ]
  },
  {
   "cell_type": "code",
   "execution_count": 10,
   "metadata": {},
   "outputs": [],
   "source": [
    "def print_board(board):\n",
    "    \n",
    "    for i in range(boardRows):\n",
    "        if i % 3 == 0 and i != 0:\n",
    "            print(\"- - - - - - - - - - -\")\n",
    "       \n",
    "        for j in range(boardCols):\n",
    "            if j % 3 == 0 and j != 0:\n",
    "                print(\"| \", end = \"\")\n",
    "                \n",
    "            if j == 8:\n",
    "                print(board[i][j])\n",
    "            else:\n",
    "                print(board[i][j], end = \"\")\n",
    "                print(\" \", end = \"\")"
   ]
  },
  {
   "cell_type": "code",
   "execution_count": 8,
   "metadata": {},
   "outputs": [],
   "source": [
    "# return the first empty cell\n",
    "def find_empty(board):\n",
    "    \n",
    "    for i in range(boardRows):\n",
    "        for j in range(boardCols):\n",
    "            if(board[i][j] == 0):\n",
    "                return (i, j)\n",
    "            \n",
    "    return None"
   ]
  },
  {
   "cell_type": "code",
   "execution_count": 11,
   "metadata": {},
   "outputs": [
    {
     "name": "stdout",
     "output_type": "stream",
     "text": [
      "7 8 0 | 4 0 0 | 1 2 0\n",
      "6 0 0 | 0 7 5 | 0 0 9\n",
      "0 0 0 | 6 0 1 | 0 7 8\n",
      "- - - - - - - - - - -\n",
      "0 0 7 | 0 4 0 | 2 6 0\n",
      "0 0 1 | 0 5 0 | 9 3 0\n",
      "9 0 4 | 0 6 0 | 0 0 5\n",
      "- - - - - - - - - - -\n",
      "0 7 0 | 3 0 0 | 0 1 2\n",
      "1 2 0 | 0 0 7 | 4 0 0\n",
      "0 4 9 | 2 0 6 | 0 0 7\n",
      "---------------------\n",
      "7 8 5 | 4 3 9 | 1 2 6\n",
      "6 1 2 | 8 7 5 | 3 4 9\n",
      "4 9 3 | 6 2 1 | 5 7 8\n",
      "- - - - - - - - - - -\n",
      "8 5 7 | 9 4 3 | 2 6 1\n",
      "2 6 1 | 7 5 8 | 9 3 4\n",
      "9 3 4 | 1 6 2 | 7 8 5\n",
      "- - - - - - - - - - -\n",
      "5 7 8 | 3 9 4 | 6 1 2\n",
      "1 2 6 | 5 8 7 | 4 9 3\n",
      "3 4 9 | 2 1 6 | 8 5 7\n"
     ]
    }
   ],
   "source": [
    "print_board(board)\n",
    "solve_sudoku(board)\n",
    "print(\"---------------------\")\n",
    "print_board(board)"
   ]
  },
  {
   "cell_type": "code",
   "execution_count": null,
   "metadata": {},
   "outputs": [],
   "source": []
  }
 ],
 "metadata": {
  "kernelspec": {
   "display_name": "Python 3",
   "language": "python",
   "name": "python3"
  },
  "language_info": {
   "codemirror_mode": {
    "name": "ipython",
    "version": 3
   },
   "file_extension": ".py",
   "mimetype": "text/x-python",
   "name": "python",
   "nbconvert_exporter": "python",
   "pygments_lexer": "ipython3",
   "version": "3.7.7"
  }
 },
 "nbformat": 4,
 "nbformat_minor": 4
}
